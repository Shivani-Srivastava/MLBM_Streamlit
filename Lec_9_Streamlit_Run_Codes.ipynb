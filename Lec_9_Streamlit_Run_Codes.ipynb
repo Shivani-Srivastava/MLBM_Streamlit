{
  "nbformat": 4,
  "nbformat_minor": 0,
  "metadata": {
    "colab": {
      "provenance": [],
      "include_colab_link": true
    },
    "kernelspec": {
      "name": "python3",
      "display_name": "Python 3"
    },
    "language_info": {
      "name": "python"
    }
  },
  "cells": [
    {
      "cell_type": "markdown",
      "metadata": {
        "id": "view-in-github",
        "colab_type": "text"
      },
      "source": [
        "<a href=\"https://colab.research.google.com/github/Shivani-Srivastava/MLBM_Streamlit/blob/main/Lec_9_Streamlit_Run_Codes.ipynb\" target=\"_parent\"><img src=\"https://colab.research.google.com/assets/colab-badge.svg\" alt=\"Open In Colab\"/></a>"
      ]
    },
    {
      "cell_type": "markdown",
      "metadata": {
        "id": "BQG1Gy0pRvUK"
      },
      "source": [
        "### Step 0: Prerequisite\n",
        "\n",
        "Get your Authentication Tokens from Ngrok and save it in a notebook. You need it later to run app.\n",
        "\n",
        "\n",
        "1.   Go to https://dashboard.ngrok.com/get-started/setup signup for free\n",
        "2.   Once you are logged in go to https://dashboard.ngrok.com/get-started/your-authtoken and copy+paste token and save it for later use.\n",
        "\n",
        "**NOTE:**  *If you already have auth token the you can skip above steps and use that token*\n",
        "\n",
        "\n"
      ]
    },
    {
      "cell_type": "markdown",
      "metadata": {
        "id": "qNdB8XkqQ3b8"
      },
      "source": [
        "### Step 1: Setup Chunk"
      ]
    },
    {
      "cell_type": "markdown",
      "metadata": {
        "id": "7xPqfXcoT-B0"
      },
      "source": [
        "#### Step 1.1: Install dependencies"
      ]
    },
    {
      "cell_type": "code",
      "metadata": {
        "id": "gWgIAluNQmoJ",
        "colab": {
          "base_uri": "https://localhost:8080/"
        },
        "outputId": "6afcda4e-4224-4d99-bbaf-96215c100a60"
      },
      "source": [
        "!pip install -q -r https://raw.githubusercontent.com/yogesh1612/MLP-intro-streamlit-app/main/requirements.txt"
      ],
      "execution_count": null,
      "outputs": [
        {
          "output_type": "stream",
          "text": [
            "\u001b[K     |████████████████████████████████| 7.8MB 5.2MB/s \n",
            "\u001b[K     |████████████████████████████████| 542kB 33.3MB/s \n",
            "\u001b[K     |████████████████████████████████| 747kB 34.3MB/s \n",
            "\u001b[K     |████████████████████████████████| 2.0MB 43.9MB/s \n",
            "\u001b[K     |████████████████████████████████| 37.2MB 80kB/s \n",
            "\u001b[K     |████████████████████████████████| 870kB 23.4MB/s \n",
            "\u001b[K     |████████████████████████████████| 112kB 47.7MB/s \n",
            "\u001b[K     |████████████████████████████████| 174kB 45.3MB/s \n",
            "\u001b[K     |████████████████████████████████| 4.2MB 32.9MB/s \n",
            "\u001b[K     |████████████████████████████████| 81kB 9.4MB/s \n",
            "\u001b[K     |████████████████████████████████| 3.2MB 28.7MB/s \n",
            "\u001b[K     |████████████████████████████████| 51kB 5.5MB/s \n",
            "\u001b[K     |████████████████████████████████| 81kB 10.0MB/s \n",
            "\u001b[K     |████████████████████████████████| 71kB 7.9MB/s \n",
            "\u001b[K     |████████████████████████████████| 122kB 45.5MB/s \n",
            "\u001b[K     |████████████████████████████████| 245kB 47.3MB/s \n",
            "\u001b[K     |████████████████████████████████| 788kB 29.6MB/s \n",
            "\u001b[K     |████████████████████████████████| 368kB 41.8MB/s \n",
            "\u001b[?25h  Building wheel for mglearn (setup.py) ... \u001b[?25l\u001b[?25hdone\n",
            "  Building wheel for pyngrok (setup.py) ... \u001b[?25l\u001b[?25hdone\n",
            "  Building wheel for blinker (setup.py) ... \u001b[?25l\u001b[?25hdone\n",
            "\u001b[31mERROR: tensorflow 2.5.0 has requirement typing-extensions~=3.7.4, but you'll have typing-extensions 3.10.0.0 which is incompatible.\u001b[0m\n",
            "\u001b[31mERROR: jupyter-console 5.2.0 has requirement prompt-toolkit<2.0.0,>=1.0.0, but you'll have prompt-toolkit 3.0.19 which is incompatible.\u001b[0m\n",
            "\u001b[31mERROR: google-colab 1.0.0 has requirement ipykernel~=4.10, but you'll have ipykernel 6.0.1 which is incompatible.\u001b[0m\n",
            "\u001b[31mERROR: google-colab 1.0.0 has requirement ipython~=5.5.0, but you'll have ipython 7.25.0 which is incompatible.\u001b[0m\n"
          ],
          "name": "stdout"
        }
      ]
    },
    {
      "cell_type": "markdown",
      "metadata": {
        "id": "13c4QWpNUfS4"
      },
      "source": [
        "#### Step 1.2: Replace XXXXXX with your ngrok token"
      ]
    },
    {
      "cell_type": "code",
      "metadata": {
        "id": "7neNSqiBUaNX"
      },
      "source": [
        "!ngrok authtoken XXXXXX"
      ],
      "execution_count": null,
      "outputs": []
    },
    {
      "cell_type": "markdown",
      "metadata": {
        "id": "DkIJ48N-W7ex"
      },
      "source": [
        "\n",
        "\n",
        "---\n",
        "\n",
        "### App-1 Intro to MLP-Streamlit App\n",
        "\n",
        "---\n",
        "\n"
      ]
    },
    {
      "cell_type": "code",
      "metadata": {
        "id": "FGUwJucaVP3h",
        "colab": {
          "base_uri": "https://localhost:8080/"
        },
        "outputId": "c208e1a5-f915-42d1-ff8a-1fbdff5c93f6"
      },
      "source": [
        "from pyngrok import ngrok\n",
        "public_url = ngrok.connect(port='80',bind_tls=True)\n",
        "print (public_url)\n",
        "!streamlit run --server.port 80 https://raw.githubusercontent.com/yogesh1612/MLP-intro-streamlit-app/main/MLP_intro.py >/dev/null"
      ],
      "execution_count": null,
      "outputs": [
        {
          "output_type": "stream",
          "text": [
            "NgrokTunnel: \"https://a6a3a05efe28.ngrok.io\" -> \"http://localhost:80\"\n"
          ],
          "name": "stdout"
        }
      ]
    },
    {
      "cell_type": "markdown",
      "metadata": {
        "id": "IgKaAa6qWU0O"
      },
      "source": [
        "In case you want to shut down your app, you will have to first check the process streamlit is running on and then kill that process. Stop execution of above cell and run below command.\n"
      ]
    },
    {
      "cell_type": "code",
      "metadata": {
        "id": "0cVBWeZeWTe_"
      },
      "source": [
        "!pgrep streamlit\n",
        "ngrok.kill()\n"
      ],
      "execution_count": null,
      "outputs": []
    },
    {
      "cell_type": "markdown",
      "metadata": {
        "id": "IQT2pvapXGfO"
      },
      "source": [
        "Once you have stopped the above app, you can execute below chunk to run App-2\n"
      ]
    },
    {
      "cell_type": "markdown",
      "metadata": {
        "id": "OsT8POkpXUPQ"
      },
      "source": [
        "\n",
        "\n",
        "---\n",
        "### App-2 LFW Image PCA-App\n",
        "\n",
        "\n",
        "---\n",
        "\n"
      ]
    },
    {
      "cell_type": "code",
      "metadata": {
        "id": "LfpFD34fWuws"
      },
      "source": [
        "public_url = ngrok.connect(port='80',bind_tls=True)\n",
        "print (public_url)\n",
        "!streamlit run --server.port 80 https://raw.githubusercontent.com/yogesh1612/MLP-intro-streamlit-app/main/lfw_image_pca.py >/dev/null"
      ],
      "execution_count": null,
      "outputs": []
    },
    {
      "cell_type": "markdown",
      "metadata": {
        "id": "CsYjyMKeYfMJ"
      },
      "source": [
        "#### If you want to stop the app then stop execution of above cell and then run below code"
      ]
    },
    {
      "cell_type": "code",
      "metadata": {
        "id": "HAlyDd07YeV8"
      },
      "source": [
        "!pgrep streamlit\n",
        "ngrok.kill()"
      ],
      "execution_count": null,
      "outputs": []
    },
    {
      "cell_type": "markdown",
      "metadata": {
        "id": "yMrUfrrwi7LZ"
      },
      "source": [
        "\n",
        "\n",
        "---\n",
        "###App-3 Object Detection using YOLO\n",
        "\n",
        "\n",
        "---\n",
        "\n"
      ]
    },
    {
      "cell_type": "code",
      "metadata": {
        "id": "4XhoFEhLjAQc"
      },
      "source": [
        "# Download the YOLOv3 model’s configuration file and weights file.\n",
        "!wget -q https://pjreddie.com/media/files/yolov3.weights \n",
        "!wget -q https://raw.githubusercontent.com/pjreddie/darknet/master/cfg/yolov3.cfg \n",
        "#Download the file containing output labels of MS-COCO dataset (weblink).\n",
        "!wget -q https://raw.githubusercontent.com/pjreddie/darknet/master/data/coco.names "
      ],
      "execution_count": null,
      "outputs": []
    },
    {
      "cell_type": "code",
      "metadata": {
        "id": "bsJHB86wja6e"
      },
      "source": [
        "public_url = ngrok.connect(port='80',bind_tls=True)\n",
        "print (public_url)\n",
        "!streamlit run --server.port 80 https://raw.githubusercontent.com/yogesh1612/MLP-intro-streamlit-app/main/obj_detection_app.py >/dev/null"
      ],
      "execution_count": null,
      "outputs": []
    },
    {
      "cell_type": "markdown",
      "metadata": {
        "id": "YKCpxqBomCo6"
      },
      "source": [
        "#### If you want to stop the app then stop execution of above cell and then run below code"
      ]
    },
    {
      "cell_type": "code",
      "metadata": {
        "id": "l4XxQLHwmCo8"
      },
      "source": [
        "!pgrep streamlit\n",
        "ngrok.kill()"
      ],
      "execution_count": null,
      "outputs": []
    },
    {
      "cell_type": "markdown",
      "metadata": {
        "id": "X8HUtUQdrv64"
      },
      "source": [
        "\n",
        "\n",
        "---\n",
        "\n",
        "###App-4 Realtime Object Detection App\n",
        "\n",
        "---\n",
        "\n"
      ]
    },
    {
      "cell_type": "code",
      "metadata": {
        "id": "9N5Qhw0_r1Xg"
      },
      "source": [
        "public_url = ngrok.connect(port='80',bind_tls=True)\n",
        "print (public_url)\n",
        "!streamlit run --server.port 80 https://raw.githubusercontent.com/whitphx/streamlit-webrtc-example/main/app.py >/dev/null\n"
      ],
      "execution_count": null,
      "outputs": []
    },
    {
      "cell_type": "code",
      "metadata": {
        "id": "GoGYpuvUsK4X"
      },
      "source": [
        "!pgrep streamlit\n",
        "ngrok.kill()"
      ],
      "execution_count": null,
      "outputs": []
    }
  ]
}