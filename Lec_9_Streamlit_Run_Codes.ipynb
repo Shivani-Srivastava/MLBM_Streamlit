{
  "nbformat": 4,
  "nbformat_minor": 0,
  "metadata": {
    "colab": {
      "provenance": [],
      "include_colab_link": true
    },
    "kernelspec": {
      "name": "python3",
      "display_name": "Python 3"
    },
    "language_info": {
      "name": "python"
    }
  },
  "cells": [
    {
      "cell_type": "markdown",
      "metadata": {
        "id": "view-in-github",
        "colab_type": "text"
      },
      "source": [
        "<a href=\"https://colab.research.google.com/github/Shivani-Srivastava/MLBM_Streamlit/blob/main/Lec_9_Streamlit_Run_Codes.ipynb\" target=\"_parent\"><img src=\"https://colab.research.google.com/assets/colab-badge.svg\" alt=\"Open In Colab\"/></a>"
      ]
    },
    {
      "cell_type": "markdown",
      "metadata": {
        "id": "BQG1Gy0pRvUK"
      },
      "source": [
        "### Step 0: Prerequisite\n",
        "\n",
        "Get your Authentication Tokens from Ngrok and save it in a notebook. You need it later to run app.\n",
        "\n",
        "\n",
        "1.   Go to https://dashboard.ngrok.com/get-started/setup signup for free\n",
        "2.   Once you are logged in go to https://dashboard.ngrok.com/get-started/your-authtoken and copy+paste token and save it for later use.\n",
        "\n",
        "**NOTE:**  *If you already have auth token the you can skip above steps and use that token*\n",
        "\n",
        "\n"
      ]
    },
    {
      "cell_type": "markdown",
      "metadata": {
        "id": "qNdB8XkqQ3b8"
      },
      "source": [
        "### Step 1: Setup Chunk"
      ]
    },
    {
      "cell_type": "markdown",
      "metadata": {
        "id": "7xPqfXcoT-B0"
      },
      "source": [
        "#### Step 1.1: Install dependencies"
      ]
    },
    {
      "cell_type": "code",
      "metadata": {
        "id": "gWgIAluNQmoJ"
      },
      "source": [
        "!pip install -q -r https://raw.githubusercontent.com/yogesh1612/MLP-intro-streamlit-app/main/requirements.txt"
      ],
      "execution_count": null,
      "outputs": []
    },
    {
      "cell_type": "markdown",
      "metadata": {
        "id": "13c4QWpNUfS4"
      },
      "source": [
        "#### Step 1.2: Replace XXXXXX with your ngrok token"
      ]
    },
    {
      "cell_type": "code",
      "metadata": {
        "id": "7neNSqiBUaNX"
      },
      "source": [
        "!ngrok authtoken 1zhxaTsQbscraEmElzKo9xuM3Uv_3s2a5YB1mMNkNqzwF1uER"
      ],
      "execution_count": null,
      "outputs": []
    },
    {
      "cell_type": "markdown",
      "metadata": {
        "id": "DkIJ48N-W7ex"
      },
      "source": [
        "\n",
        "\n",
        "---\n",
        "\n",
        "### App-1 Intro to MLP-Streamlit App\n",
        "\n",
        "---\n",
        "\n"
      ]
    },
    {
      "cell_type": "code",
      "source": [
        "!pip install 'joblib == 1.1.0'"
      ],
      "metadata": {
        "id": "KHE9v-FjG4EO"
      },
      "execution_count": null,
      "outputs": []
    },
    {
      "cell_type": "code",
      "source": [
        "import mglearn"
      ],
      "metadata": {
        "id": "efBvQH0BHl9T"
      },
      "execution_count": 2,
      "outputs": []
    },
    {
      "cell_type": "code",
      "metadata": {
        "id": "FGUwJucaVP3h"
      },
      "source": [
        "from pyngrok import ngrok\n",
        "public_url = ngrok.connect(port='80',bind_tls=True)\n",
        "print (public_url)\n",
        "!streamlit run --server.port 80 https://raw.githubusercontent.com/yogesh1612/MLP-intro-streamlit-app/main/MLP_intro.py >/dev/null"
      ],
      "execution_count": null,
      "outputs": []
    },
    {
      "cell_type": "markdown",
      "metadata": {
        "id": "IgKaAa6qWU0O"
      },
      "source": [
        "In case you want to shut down your app, you will have to first check the process streamlit is running on and then kill that process. Stop execution of above cell and run below command.\n"
      ]
    },
    {
      "cell_type": "code",
      "metadata": {
        "id": "0cVBWeZeWTe_"
      },
      "source": [
        "!pgrep streamlit\n",
        "ngrok.kill()\n"
      ],
      "execution_count": 4,
      "outputs": []
    },
    {
      "cell_type": "markdown",
      "metadata": {
        "id": "IQT2pvapXGfO"
      },
      "source": [
        "Once you have stopped the above app, you can execute below chunk to run App-2\n"
      ]
    },
    {
      "cell_type": "markdown",
      "metadata": {
        "id": "OsT8POkpXUPQ"
      },
      "source": [
        "\n",
        "\n",
        "---\n",
        "### App-2 LFW Image PCA-App\n",
        "\n",
        "\n",
        "---\n",
        "\n"
      ]
    },
    {
      "cell_type": "code",
      "metadata": {
        "id": "LfpFD34fWuws"
      },
      "source": [
        "public_url = ngrok.connect(port='80',bind_tls=True)\n",
        "print (public_url)\n",
        "!streamlit run --server.port 80 https://raw.githubusercontent.com/yogesh1612/MLP-intro-streamlit-app/main/lfw_image_pca.py >/dev/null"
      ],
      "execution_count": null,
      "outputs": []
    },
    {
      "cell_type": "markdown",
      "metadata": {
        "id": "CsYjyMKeYfMJ"
      },
      "source": [
        "#### If you want to stop the app then stop execution of above cell and then run below code"
      ]
    },
    {
      "cell_type": "code",
      "metadata": {
        "id": "HAlyDd07YeV8"
      },
      "source": [
        "!pgrep streamlit\n",
        "ngrok.kill()"
      ],
      "execution_count": null,
      "outputs": []
    }
  ]
}