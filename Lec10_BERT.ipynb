{
  "nbformat": 4,
  "nbformat_minor": 0,
  "metadata": {
    "colab": {
      "name": "Lec10-BERT.ipynb",
      "provenance": [],
      "collapsed_sections": [],
      "authorship_tag": "ABX9TyNmLCCJ3vTcqrkichy+UjzK",
      "include_colab_link": true
    },
    "kernelspec": {
      "name": "python3",
      "display_name": "Python 3"
    },
    "language_info": {
      "name": "python"
    }
  },
  "cells": [
    {
      "cell_type": "markdown",
      "metadata": {
        "id": "view-in-github",
        "colab_type": "text"
      },
      "source": [
        "<a href=\"https://colab.research.google.com/github/Shivani-Srivastava/MLBM_Streamlit/blob/main/Lec10_BERT.ipynb\" target=\"_parent\"><img src=\"https://colab.research.google.com/assets/colab-badge.svg\" alt=\"Open In Colab\"/></a>"
      ]
    },
    {
      "cell_type": "markdown",
      "source": [
        "\n",
        "\n",
        "---\n",
        "## Lecture 10: BERT\n",
        "\n",
        "\n",
        "---\n",
        "\n",
        "Bidirectional Encoder Representations from Transformers is a transformer-based machine learning technique for natural language processing pre-training developed by Google.\n",
        "\n",
        "Run the following code chunks to see different streamlit apps that show the functionality available with BERT. Note that the models that these are trained on are very heavy and will take time to load the applications. (~2 to 3 minutes)\n",
        "\n"
      ],
      "metadata": {
        "id": "392BhmUYiK4T"
      }
    },
    {
      "cell_type": "code",
      "execution_count": 1,
      "metadata": {
        "id": "9_aWz5EmhIXS"
      },
      "outputs": [],
      "source": [
        "!pip install -q -r https://raw.githubusercontent.com/Shivani-Srivastava/MLBM_Streamlit/main/BERT_FillMask/requirements.txt"
      ]
    },
    {
      "cell_type": "code",
      "source": [
        "!pip install pyngrok"
      ],
      "metadata": {
        "colab": {
          "base_uri": "https://localhost:8080/"
        },
        "id": "4wbtzkXnhbvY",
        "outputId": "20a7665d-3f54-4d04-8684-086cb473b53e"
      },
      "execution_count": 2,
      "outputs": [
        {
          "output_type": "stream",
          "name": "stdout",
          "text": [
            "Requirement already satisfied: pyngrok in /usr/local/lib/python3.7/dist-packages (5.1.0)\n",
            "Requirement already satisfied: PyYAML in /usr/local/lib/python3.7/dist-packages (from pyngrok) (6.0)\n"
          ]
        }
      ]
    },
    {
      "cell_type": "markdown",
      "source": [
        "**Remember to replace XXXXX with your NGROK token.**"
      ],
      "metadata": {
        "id": "5KyYxxWyigvY"
      }
    },
    {
      "cell_type": "code",
      "metadata": {
        "id": "7neNSqiBUaNX",
        "colab": {
          "base_uri": "https://localhost:8080/"
        },
        "outputId": "36e1edf1-a0b3-4042-8133-05054b590a82"
      },
      "source": [
        "!ngrok authtoken XXXXX"
      ],
      "execution_count": 1,
      "outputs": [
        {
          "output_type": "stream",
          "name": "stdout",
          "text": [
            "Authtoken saved to configuration file: /root/.ngrok2/ngrok.yml\n"
          ]
        }
      ]
    },
    {
      "cell_type": "markdown",
      "source": [
        "\n",
        "\n",
        "---\n",
        "\n",
        "## Filling Masks\n",
        "\n",
        "---\n",
        "\n"
      ],
      "metadata": {
        "id": "mVh9gqQsi4Ys"
      }
    },
    {
      "cell_type": "code",
      "source": [
        "from pyngrok import ngrok\n",
        "public_url = ngrok.connect(port='80',bind_tls=True)\n",
        "print (public_url)\n",
        "!streamlit run --server.port 80 https://raw.githubusercontent.com/Shivani-Srivastava/MLBM_Streamlit/main/BERT_FillMask/BERT-demo.py >/dev/null"
      ],
      "metadata": {
        "colab": {
          "base_uri": "https://localhost:8080/"
        },
        "id": "Pp3xeT7ahoa5",
        "outputId": "494f0988-a175-4459-f8df-5ed561abbfd6"
      },
      "execution_count": null,
      "outputs": [
        {
          "output_type": "stream",
          "name": "stdout",
          "text": [
            "NgrokTunnel: \"https://3036-35-245-76-98.ngrok.io\" -> \"http://localhost:80\"\n",
            "2022-04-05 11:41:07.128 INFO    numexpr.utils: NumExpr defaulting to 2 threads.\n",
            "No model was supplied, defaulted to distilroberta-base (https://huggingface.co/distilroberta-base)\n",
            "Downloading: 100% 480/480 [00:00<00:00, 525kB/s]\n",
            "Downloading: 100% 316M/316M [00:07<00:00, 43.2MB/s]\n",
            "Downloading: 100% 878k/878k [00:00<00:00, 19.0MB/s]\n",
            "Downloading: 100% 446k/446k [00:00<00:00, 23.1MB/s]\n",
            "Downloading: 100% 1.29M/1.29M [00:00<00:00, 22.5MB/s]\n",
            "No model was supplied, defaulted to distilroberta-base (https://huggingface.co/distilroberta-base)\n",
            "No model was supplied, defaulted to distilroberta-base (https://huggingface.co/distilroberta-base)\n",
            "No model was supplied, defaulted to distilroberta-base (https://huggingface.co/distilroberta-base)\n",
            "No model was supplied, defaulted to distilroberta-base (https://huggingface.co/distilroberta-base)\n"
          ]
        }
      ]
    },
    {
      "cell_type": "markdown",
      "source": [
        "Always kill an app before starting with a new one."
      ],
      "metadata": {
        "id": "Gsc4rxALipis"
      }
    },
    {
      "cell_type": "code",
      "metadata": {
        "id": "0cVBWeZeWTe_"
      },
      "source": [
        "!pgrep streamlit\n",
        "ngrok.kill()\n"
      ],
      "execution_count": null,
      "outputs": []
    },
    {
      "cell_type": "markdown",
      "source": [
        "\n",
        "\n",
        "---\n",
        "## Generating Text\n",
        "\n",
        "\n",
        "---\n",
        "\n"
      ],
      "metadata": {
        "id": "F7v3sN5usyNa"
      }
    },
    {
      "cell_type": "code",
      "source": [
        "from pyngrok import ngrok\n",
        "public_url = ngrok.connect(port='80',bind_tls=True)\n",
        "print (public_url)\n",
        "!streamlit run --server.port 80 https://raw.githubusercontent.com/Shivani-Srivastava/MLBM_Streamlit/main/BERT_Demos/BERT-demo-textgen.py >/dev/null"
      ],
      "metadata": {
        "colab": {
          "base_uri": "https://localhost:8080/"
        },
        "outputId": "494f0988-a175-4459-f8df-5ed561abbfd6",
        "id": "373KKAuFs7TX"
      },
      "execution_count": null,
      "outputs": [
        {
          "output_type": "stream",
          "name": "stdout",
          "text": [
            "NgrokTunnel: \"https://3036-35-245-76-98.ngrok.io\" -> \"http://localhost:80\"\n",
            "2022-04-05 11:41:07.128 INFO    numexpr.utils: NumExpr defaulting to 2 threads.\n",
            "No model was supplied, defaulted to distilroberta-base (https://huggingface.co/distilroberta-base)\n",
            "Downloading: 100% 480/480 [00:00<00:00, 525kB/s]\n",
            "Downloading: 100% 316M/316M [00:07<00:00, 43.2MB/s]\n",
            "Downloading: 100% 878k/878k [00:00<00:00, 19.0MB/s]\n",
            "Downloading: 100% 446k/446k [00:00<00:00, 23.1MB/s]\n",
            "Downloading: 100% 1.29M/1.29M [00:00<00:00, 22.5MB/s]\n",
            "No model was supplied, defaulted to distilroberta-base (https://huggingface.co/distilroberta-base)\n",
            "No model was supplied, defaulted to distilroberta-base (https://huggingface.co/distilroberta-base)\n",
            "No model was supplied, defaulted to distilroberta-base (https://huggingface.co/distilroberta-base)\n",
            "No model was supplied, defaulted to distilroberta-base (https://huggingface.co/distilroberta-base)\n"
          ]
        }
      ]
    },
    {
      "cell_type": "markdown",
      "source": [
        "Always kill an app before starting with a new one."
      ],
      "metadata": {
        "id": "Zgp2IrqSs7Tc"
      }
    },
    {
      "cell_type": "code",
      "metadata": {
        "id": "HqEeO6q4s7Te"
      },
      "source": [
        "!pgrep streamlit\n",
        "ngrok.kill()\n"
      ],
      "execution_count": null,
      "outputs": []
    },
    {
      "cell_type": "markdown",
      "source": [
        "\n",
        "\n",
        "---\n",
        "\n",
        "## Context-Driven Question Answers\n",
        "\n",
        "\n",
        "---\n",
        "\n"
      ],
      "metadata": {
        "id": "7fumTnT-tChF"
      }
    },
    {
      "cell_type": "code",
      "source": [
        "from pyngrok import ngrok\n",
        "public_url = ngrok.connect(port='80',bind_tls=True)\n",
        "print (public_url)\n",
        "!streamlit run --server.port 80 https://raw.githubusercontent.com/Shivani-Srivastava/MLBM_Streamlit/main/BERT_Demos/BERT-demo-QA.py >/dev/null"
      ],
      "metadata": {
        "colab": {
          "base_uri": "https://localhost:8080/"
        },
        "outputId": "f5243592-46b4-4b02-baab-7c8de59e4935",
        "id": "IuG9wiKLtQGz"
      },
      "execution_count": null,
      "outputs": [
        {
          "output_type": "stream",
          "name": "stdout",
          "text": [
            "NgrokTunnel: \"https://92b0-35-245-76-98.ngrok.io\" -> \"http://localhost:80\"\n",
            "2022-04-05 12:47:02.161 INFO    numexpr.utils: NumExpr defaulting to 2 threads.\n",
            "No model was supplied, defaulted to distilbert-base-cased-distilled-squad (https://huggingface.co/distilbert-base-cased-distilled-squad)\n",
            "Downloading: 100% 473/473 [00:00<00:00, 510kB/s]\n",
            "Downloading: 100% 249M/249M [00:05<00:00, 46.4MB/s]\n",
            "Downloading: 100% 29.0/29.0 [00:00<00:00, 26.0kB/s]\n",
            "Downloading: 100% 208k/208k [00:00<00:00, 15.9MB/s]\n",
            "Downloading: 100% 426k/426k [00:00<00:00, 20.1MB/s]\n",
            "No model was supplied, defaulted to distilbert-base-cased-distilled-squad (https://huggingface.co/distilbert-base-cased-distilled-squad)\n",
            "No model was supplied, defaulted to distilbert-base-cased-distilled-squad (https://huggingface.co/distilbert-base-cased-distilled-squad)\n"
          ]
        }
      ]
    },
    {
      "cell_type": "markdown",
      "source": [
        "Always kill an app before starting with a new one."
      ],
      "metadata": {
        "id": "PLoqosmhtQG2"
      }
    },
    {
      "cell_type": "code",
      "metadata": {
        "id": "dupYVmWZtQG5"
      },
      "source": [
        "!pgrep streamlit\n",
        "ngrok.kill()\n"
      ],
      "execution_count": null,
      "outputs": []
    },
    {
      "cell_type": "markdown",
      "source": [
        "\n",
        "\n",
        "---\n",
        "\n",
        "## Text Summarization\n",
        "\n",
        "\n",
        "---\n",
        "\n"
      ],
      "metadata": {
        "id": "4YXRCvCdtW-U"
      }
    },
    {
      "cell_type": "code",
      "source": [
        "from pyngrok import ngrok\n",
        "public_url = ngrok.connect(port='80',bind_tls=True)\n",
        "print (public_url)\n",
        "!streamlit run --server.port 80 https://raw.githubusercontent.com/Shivani-Srivastava/MLBM_Streamlit/main/BERT_Demos/BERT-demo-summary.py >/dev/null"
      ],
      "metadata": {
        "colab": {
          "base_uri": "https://localhost:8080/"
        },
        "outputId": "45f97756-7d1b-4ab9-abc0-26976f2f1bcd",
        "id": "_vFfYxXxtSW-"
      },
      "execution_count": 2,
      "outputs": [
        {
          "output_type": "stream",
          "name": "stdout",
          "text": [
            "NgrokTunnel: \"https://efd8-35-245-76-98.ngrok.io\" -> \"http://localhost:80\"\n",
            "2022-04-05 13:00:50.406 INFO    numexpr.utils: NumExpr defaulting to 2 threads.\n",
            "No model was supplied, defaulted to sshleifer/distilbart-cnn-12-6 (https://huggingface.co/sshleifer/distilbart-cnn-12-6)\n",
            "Your max_length is set to 142, but you input_length is only 31. You might consider decreasing max_length manually, e.g. summarizer('...', max_length=15)\n",
            "No model was supplied, defaulted to sshleifer/distilbart-cnn-12-6 (https://huggingface.co/sshleifer/distilbart-cnn-12-6)\n"
          ]
        }
      ]
    },
    {
      "cell_type": "markdown",
      "source": [
        "Always kill an app before starting with a new one."
      ],
      "metadata": {
        "id": "rldEQdgstSXC"
      }
    },
    {
      "cell_type": "code",
      "metadata": {
        "id": "BuNkCmG5tSXE"
      },
      "source": [
        "!pgrep streamlit\n",
        "ngrok.kill()\n"
      ],
      "execution_count": 3,
      "outputs": []
    }
  ]
}