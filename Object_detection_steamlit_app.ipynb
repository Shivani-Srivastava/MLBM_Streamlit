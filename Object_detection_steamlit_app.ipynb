{
  "cells": [
    {
      "cell_type": "markdown",
      "metadata": {
        "id": "view-in-github",
        "colab_type": "text"
      },
      "source": [
        "<a href=\"https://colab.research.google.com/github/Shivani-Srivastava/MLBM_Streamlit/blob/main/Object_detection_steamlit_app.ipynb\" target=\"_parent\"><img src=\"https://colab.research.google.com/assets/colab-badge.svg\" alt=\"Open In Colab\"/></a>"
      ]
    },
    {
      "cell_type": "markdown",
      "metadata": {
        "id": "BQG1Gy0pRvUK"
      },
      "source": [
        "### Step 0: Prerequisite\n",
        "\n",
        "Get your Authentication Tokens from Ngrok and save it in a notebook. You need it later to run app.\n",
        "\n",
        "\n",
        "1.   Go to https://dashboard.ngrok.com/get-started/setup signup for free\n",
        "2.   Once you are logged in go to https://dashboard.ngrok.com/get-started/your-authtoken and copy+paste token and save it for later use.\n",
        "\n",
        "**NOTE:**  *If you already have auth token the you can skip above steps and use that token*\n",
        "\n",
        "\n"
      ]
    },
    {
      "cell_type": "markdown",
      "metadata": {
        "id": "qNdB8XkqQ3b8"
      },
      "source": [
        "### Step 1: Setup Chunk"
      ]
    },
    {
      "cell_type": "code",
      "source": [
        "#@title\n",
        "#1st restart runtime then run this cell to delete the folder with that name \n",
        "import shutil \n",
        "shutil.rmtree('object_detection_using_yolov5', ignore_errors=True) "
      ],
      "metadata": {
        "id": "lLMomaaNiL99",
        "cellView": "form"
      },
      "execution_count": 13,
      "outputs": []
    },
    {
      "cell_type": "markdown",
      "metadata": {
        "id": "7xPqfXcoT-B0"
      },
      "source": [
        "#### Step 1.1: Install dependencies"
      ]
    },
    {
      "cell_type": "code",
      "execution_count": 2,
      "metadata": {
        "id": "gWgIAluNQmoJ"
      },
      "outputs": [],
      "source": [
        "!pip install -q -r https://raw.githubusercontent.com/yogesh1612/MLP-intro-streamlit-app/main/requirements.txt"
      ]
    },
    {
      "cell_type": "markdown",
      "metadata": {
        "id": "13c4QWpNUfS4"
      },
      "source": [
        "#### Step 1.2: Replace XXXXXX with your ngrok token"
      ]
    },
    {
      "cell_type": "code",
      "execution_count": 3,
      "metadata": {
        "colab": {
          "base_uri": "https://localhost:8080/"
        },
        "id": "7neNSqiBUaNX",
        "outputId": "bff59eef-3bdb-4a2c-a8ef-4fe7ef33e952"
      },
      "outputs": [
        {
          "output_type": "stream",
          "name": "stdout",
          "text": [
            "Authtoken saved to configuration file: /root/.ngrok2/ngrok.yml\n"
          ]
        }
      ],
      "source": [
        "!ngrok authtoken XXXXXX"
      ]
    },
    {
      "cell_type": "markdown",
      "metadata": {
        "id": "yMrUfrrwi7LZ"
      },
      "source": [
        "\n",
        "\n",
        "---\n",
        "###App: Object Detection using YOLO\n",
        "\n",
        "\n",
        "---\n",
        "\n"
      ]
    },
    {
      "cell_type": "code",
      "execution_count": 4,
      "metadata": {
        "colab": {
          "base_uri": "https://localhost:8080/"
        },
        "id": "vqSEC-blHFm2",
        "outputId": "a55023e4-3e65-4e1b-a9af-2ea9ad523f59"
      },
      "outputs": [
        {
          "output_type": "stream",
          "name": "stdout",
          "text": [
            "Cloning into 'object_detection_using_yolov5'...\n",
            "remote: Enumerating objects: 122, done.\u001b[K\n",
            "remote: Counting objects:   4% (1/23)\u001b[K\rremote: Counting objects:   8% (2/23)\u001b[K\rremote: Counting objects:  13% (3/23)\u001b[K\rremote: Counting objects:  17% (4/23)\u001b[K\rremote: Counting objects:  21% (5/23)\u001b[K\rremote: Counting objects:  26% (6/23)\u001b[K\rremote: Counting objects:  30% (7/23)\u001b[K\rremote: Counting objects:  34% (8/23)\u001b[K\rremote: Counting objects:  39% (9/23)\u001b[K\rremote: Counting objects:  43% (10/23)\u001b[K\rremote: Counting objects:  47% (11/23)\u001b[K\rremote: Counting objects:  52% (12/23)\u001b[K\rremote: Counting objects:  56% (13/23)\u001b[K\rremote: Counting objects:  60% (14/23)\u001b[K\rremote: Counting objects:  65% (15/23)\u001b[K\rremote: Counting objects:  69% (16/23)\u001b[K\rremote: Counting objects:  73% (17/23)\u001b[K\rremote: Counting objects:  78% (18/23)\u001b[K\rremote: Counting objects:  82% (19/23)\u001b[K\rremote: Counting objects:  86% (20/23)\u001b[K\rremote: Counting objects:  91% (21/23)\u001b[K\rremote: Counting objects:  95% (22/23)\u001b[K\rremote: Counting objects: 100% (23/23)\u001b[K\rremote: Counting objects: 100% (23/23), done.\u001b[K\n",
            "remote: Compressing objects: 100% (21/21), done.\u001b[K\n",
            "remote: Total 122 (delta 10), reused 6 (delta 1), pack-reused 99\u001b[K\n",
            "Receiving objects: 100% (122/122), 18.21 MiB | 39.59 MiB/s, done.\n",
            "Resolving deltas: 100% (30/30), done.\n"
          ]
        }
      ],
      "source": [
        "!git clone https://github.com/Shivani-Srivastava/object_detection_using_yolov5"
      ]
    },
    {
      "cell_type": "markdown",
      "source": [
        "---\n",
        "### Delete the folder\n",
        "\n",
        "\n",
        "---"
      ],
      "metadata": {
        "id": "nCM2zFYZiWkV"
      }
    },
    {
      "cell_type": "code",
      "execution_count": 5,
      "metadata": {
        "id": "-u2I774iHHzf"
      },
      "outputs": [],
      "source": [
        "!pip install -q -r object_detection_using_yolov5/requirements.txt "
      ]
    },
    {
      "cell_type": "code",
      "execution_count": 8,
      "metadata": {
        "colab": {
          "base_uri": "https://localhost:8080/"
        },
        "id": "sCNPep_ZXlm5",
        "outputId": "45a251d6-dd3d-48e1-9e29-3e3aa935e5d5"
      },
      "outputs": [
        {
          "output_type": "stream",
          "name": "stdout",
          "text": [
            "/content/object_detection_using_yolov5\n"
          ]
        }
      ],
      "source": [
        "%cd /content/object_detection_using_yolov5"
      ]
    },
    {
      "cell_type": "markdown",
      "source": [
        "###App for Images and Videos"
      ],
      "metadata": {
        "id": "VTi421cDma8D"
      }
    },
    {
      "cell_type": "code",
      "execution_count": null,
      "metadata": {
        "id": "42JhkTlQHNN-"
      },
      "outputs": [],
      "source": [
        "!pip install ngrok \n",
        "from pyngrok import ngrok\n",
        "public_url = ngrok.connect(port='80',bind_tls=True) \n",
        "print(public_url) \n",
        "!streamlit run --server.port 80 main.py >/dev/null "
      ]
    },
    {
      "cell_type": "markdown",
      "metadata": {
        "id": "YKCpxqBomCo6"
      },
      "source": [
        "#### If you want to stop the app then stop execution of above cell and then run below code"
      ]
    },
    {
      "cell_type": "code",
      "execution_count": 12,
      "metadata": {
        "id": "l4XxQLHwmCo8"
      },
      "outputs": [],
      "source": [
        "!pgrep streamlit \n",
        "ngrok.kill()"
      ]
    }
  ],
  "metadata": {
    "accelerator": "GPU",
    "colab": {
      "provenance": [],
      "include_colab_link": true
    },
    "kernelspec": {
      "display_name": "Python 3",
      "name": "python3"
    },
    "language_info": {
      "name": "python"
    }
  },
  "nbformat": 4,
  "nbformat_minor": 0
}